{
 "cells": [
  {
   "cell_type": "markdown",
   "metadata": {},
   "source": [
    "<!-- <a href=\"https://media.suckhoecong.vn/Images/Uploaded/Share/2016/05/11/michelin_star.png\">Image</a> -->"
   ]
  },
  {
   "cell_type": "markdown",
   "metadata": {},
   "source": [
    "# Instruction:\n",
    "### Overview of Michelin: (and the data)\n",
    "\n",
    "### Objectives:\n",
    "- What is the most Michelin rank existed?\n",
    "- What is the highest/lowest price?\n",
    "- Which country does it have most/lest Michelin restaurants?\n",
    "- What is the most beloved cuisine style? (based on Michelin rank)\n",
    "### Notes:"
   ]
  },
  {
   "cell_type": "markdown",
   "metadata": {},
   "source": [
    "# First Setup"
   ]
  },
  {
   "cell_type": "markdown",
   "metadata": {},
   "source": [
    "### Setup Library - Config - Import data"
   ]
  },
  {
   "cell_type": "code",
   "execution_count": 2,
   "metadata": {},
   "outputs": [
    {
     "ename": "SyntaxError",
     "evalue": "invalid syntax (3123363358.py, line 1)",
     "output_type": "error",
     "traceback": [
      "\u001b[1;36m  Input \u001b[1;32mIn [2]\u001b[1;36m\u001b[0m\n\u001b[1;33m    ```{admonition} Click the button to reveal!\u001b[0m\n\u001b[1;37m    ^\u001b[0m\n\u001b[1;31mSyntaxError\u001b[0m\u001b[1;31m:\u001b[0m invalid syntax\n"
     ]
    }
   ],
   "source": [
    "# Setup Library\n",
    "import pandas as pd\n",
    "import numpy as np\n",
    "from IPython.display import display\n",
    "import matplotlib.pyplot as plt\n",
    "import seaborn as sns\n",
    "import re\n",
    "\n",
    "from count_sum import *\n",
    "from info_enhance import *\n",
    "from API_Get import *\n",
    "\n",
    "import folium"
   ]
  },
  {
   "cell_type": "code",
   "execution_count": null,
   "metadata": {},
   "outputs": [],
   "source": [
    "# Config\n",
    "pd.set_option('display.float_format', lambda x: '%.2f' % x)\n",
    "sns.set(style=\"darkgrid\")"
   ]
  },
  {
   "cell_type": "code",
   "execution_count": null,
   "metadata": {},
   "outputs": [],
   "source": [
    "# Import Data\n",
    "df = pd.read_csv('michelin_my_maps.csv')"
   ]
  },
  {
   "cell_type": "markdown",
   "metadata": {},
   "source": [
    "### Data first look"
   ]
  },
  {
   "cell_type": "code",
   "execution_count": null,
   "metadata": {},
   "outputs": [],
   "source": [
    "print('Data Overview:-----------------------------------------')\n",
    "display(df.head(5))\n",
    "print('Data Structure:-----------------------------------------')\n",
    "display(infoOut(df,vunique=True))"
   ]
  },
  {
   "cell_type": "markdown",
   "metadata": {},
   "source": [
    "### Null-data Solution & Reconfig:"
   ]
  },
  {
   "cell_type": "code",
   "execution_count": null,
   "metadata": {},
   "outputs": [],
   "source": [
    "# Null-data explore:\n",
    "print('Percentage of null: ----------------------------------')\n",
    "null_per = df.isnull().sum()*100/len(df)\n",
    "null_per = null_per.to_frame()\n",
    "null_per.columns = ['Percent']\n",
    "null_per.index.names = ['Name']\n",
    "null_per.reset_index(inplace=True)\n",
    "display(null_per)"
   ]
  },
  {
   "cell_type": "code",
   "execution_count": null,
   "metadata": {},
   "outputs": [],
   "source": [
    "# Drop Null-data and Reconfig format\n",
    "df = df.dropna(subset=['MinPrice','MaxPrice','Currency']).reset_index().drop(columns='index')\n",
    "df['MinPrice'] = df['MinPrice'].str.replace(',','')\n",
    "df['MinPrice'] = df['MinPrice'].astype(str).astype('float64')\n",
    "df['MaxPrice'] = df['MaxPrice'].str.replace(',','')\n",
    "df['MaxPrice'] = df['MaxPrice'].astype(str).astype('float64')"
   ]
  },
  {
   "cell_type": "markdown",
   "metadata": {},
   "source": [
    "### Null solved data"
   ]
  },
  {
   "cell_type": "code",
   "execution_count": null,
   "metadata": {},
   "outputs": [],
   "source": [
    "print('Overview: ===============================')\n",
    "display(df.head(3))\n",
    "print('Summary: ===============================')\n",
    "df_summary = infoOut(df,vunique=True)\n",
    "display(df_summary)"
   ]
  },
  {
   "cell_type": "markdown",
   "metadata": {},
   "source": [
    "### Get currency to exchange\n"
   ]
  },
  {
   "cell_type": "code",
   "execution_count": null,
   "metadata": {},
   "outputs": [],
   "source": [
    "# Dict to exchange\n",
    "# Curr_ex_dict = dict()\n",
    "# for index,value in enumerate(lst_plus):\n",
    "#     dic_value = get_connection(CE = value)\n",
    "#     Curr_ex_dict[value] = dic_value[value]\n",
    "# display(Curr_ex_dict)\n",
    "\n",
    "# Tempt exchange dict\n",
    "Curr_ex_dict = {\n",
    "       \"EUR_USD\": 1.0576,\n",
    "       \"GBP_USD\": 1.2462,\n",
    "       \"MOP_USD\": 0.1237,\n",
    "       \"HKD_USD\": 0.1274,\n",
    "       \"JPY_USD\": 0.0078,\n",
    "       \"KRW_USD\": 0.0008,\n",
    "       \"CNY_USD\": 0.1489,\n",
    "       \"USD_USD\": 1,\n",
    "       \"SEK_USD\": 0.1007,\n",
    "       \"NOK_USD\": 0.1031,\n",
    "       \"DKK_USD\": 0.1421,\n",
    "       \"SGD_USD\": 0.7244,\n",
    "       \"TWD_USD\": 0.0337,\n",
    "       \"CHF_USD\": 1.0283,\n",
    "       \"THB_USD\": 0.0290,\n",
    "       \"BRL_USD\": 0.2031,\n",
    "       \"CZK_USD\": 0.0428,\n",
    "       \"ISK_USD\": 0.0076,\n",
    "       \"HRK_USD\": 0.1403,\n",
    "       \"HUF_USD\": 0.0028,\n",
    "       \"PLN_USD\": 0.2275,\n",
    "       \"RSD_USD\": 0.0090\n",
    "}"
   ]
  },
  {
   "cell_type": "markdown",
   "metadata": {},
   "source": [
    "# Process"
   ]
  },
  {
   "cell_type": "markdown",
   "metadata": {},
   "source": [
    "### Create new data"
   ]
  },
  {
   "cell_type": "code",
   "execution_count": null,
   "metadata": {},
   "outputs": [],
   "source": [
    "# First data\n",
    "db = df.iloc[:,:]\n",
    "da = db['Address']\n",
    "\n",
    "# New data-field: Nation\n",
    "db['Nation'] = [re.findall(r\", \\w(?:[A-Za-z])+\", da)[-1].replace(', ','') for da in da]\n",
    "\n",
    "# New data-field: CtUSD (Currency to USD)\n",
    "db['CtUSD'] = db['Currency']+'_USD'\n",
    "\n",
    "# New data-field: MinPrice_USD & MaxPrice_USD\n",
    "db['MinPrice_USD'] = [db['MinPrice'][i]*Curr_ex_dict.get(db['CtUSD'][i]) for i in range(len(db))]\n",
    "db['MaxPrice_USD'] = [db['MaxPrice'][i]*Curr_ex_dict.get(db['CtUSD'][i]) for i in range(len(db))]\n",
    "\n",
    "# Split Cuisine-field\n",
    "db['Cuisine'] = [db['Cuisine'][i].split(', ') for i in range(len(db))]\n",
    "\n",
    "# Filter&Sort data\n",
    "cols = ['Name','Location', 'Nation', 'MinPrice_USD', 'MaxPrice_USD','Cuisine', 'Longitude', 'Latitude', 'Award']\n",
    "db = db.loc[:,cols]"
   ]
  },
  {
   "cell_type": "markdown",
   "metadata": {},
   "source": [
    "### Summary based on Nation"
   ]
  },
  {
   "cell_type": "code",
   "execution_count": null,
   "metadata": {},
   "outputs": [],
   "source": [
    "# Based on Nations (no ranking)\n",
    "by_Nation = db\\\n",
    "            .groupby('Nation')\\\n",
    "            .agg({\"Name\":\"count\",\"MinPrice_USD\":\"min\",\"MaxPrice_USD\":\"max\",\"Longitude\":\"mean\",\"Latitude\":\"mean\"})\\\n",
    "            .reset_index()\n",
    "by_Nation.columns = ['Nations','Count','MinP','MaxP','Long','Lat']\n",
    "\n",
    "# Based on Nations (with ranking)\n",
    "by_Nation_rank_3 = db[db['Award'] == '3 MICHELIN Stars']\\\n",
    "            .groupby('Nation')\\\n",
    "            .agg({\"Name\":\"count\",\"MinPrice_USD\":\"min\",\"MaxPrice_USD\":\"max\",\"Longitude\":\"mean\",\"Latitude\":\"mean\"})\\\n",
    "            .reset_index()\n",
    "by_Nation_rank_3.columns = ['Nations','Count','MinP','MaxP','Long','Lat']\n",
    "\n",
    "by_Nation_rank_2 = db[db['Award'] == '2 MICHELIN Stars']\\\n",
    "            .groupby('Nation')\\\n",
    "            .agg({\"Name\":\"count\",\"MinPrice_USD\":\"min\",\"MaxPrice_USD\":\"max\",\"Longitude\":\"mean\",\"Latitude\":\"mean\"})\\\n",
    "            .reset_index()\n",
    "by_Nation_rank_2.columns = ['Nations','Count','MinP','MaxP','Long','Lat']\n",
    "\n",
    "by_Nation_rank_1 = db[db['Award'] == '1 MICHELIN Star']\\\n",
    "            .groupby('Nation')\\\n",
    "            .agg({\"Name\":\"count\",\"MinPrice_USD\":\"min\",\"MaxPrice_USD\":\"max\",\"Longitude\":\"mean\",\"Latitude\":\"mean\"})\\\n",
    "            .reset_index()\n",
    "by_Nation_rank_1.columns = ['Nations','Count','MinP','MaxP','Long','Lat']\n",
    "\n",
    "by_Nation_rank_0 = db[db['Award'] == 'Bib Gourmand']\\\n",
    "            .groupby('Nation')\\\n",
    "            .agg({\"Name\":\"count\",\"MinPrice_USD\":\"min\",\"MaxPrice_USD\":\"max\",\"Longitude\":\"mean\",\"Latitude\":\"mean\"})\\\n",
    "            .reset_index()\n",
    "by_Nation_rank_0.columns = ['Nations','Count','MinP','MaxP','Long','Lat']"
   ]
  },
  {
   "cell_type": "markdown",
   "metadata": {},
   "source": [
    "### Summary based on Award"
   ]
  },
  {
   "cell_type": "code",
   "execution_count": null,
   "metadata": {},
   "outputs": [],
   "source": [
    "cols = ['Award','MinPrice_USD','MaxPrice_USD']\n",
    "Award_db = db[cols]\n",
    "Award_db = pd.melt(Award_db, id_vars =['Name'], value_vars =['Course'])"
   ]
  },
  {
   "cell_type": "markdown",
   "metadata": {},
   "source": [
    "# Conclusion:"
   ]
  },
  {
   "cell_type": "markdown",
   "metadata": {},
   "source": [
    "### How Michelin stars (without ranking) distributes in nations"
   ]
  },
  {
   "cell_type": "code",
   "execution_count": null,
   "metadata": {},
   "outputs": [],
   "source": [
    "# Make an empty map\n",
    "m_Nations = folium.Map(location=[20,0], tiles=\"OpenStreetMap\", zoom_start=2)\n",
    "\n",
    "# add marker one by one on the map\n",
    "data= by_Nation.iloc[:,:]\n",
    "\n",
    "for i in range(0,len(data)):\n",
    "   folium.Circle(\n",
    "      location=[data.iloc[i]['Lat'], data.iloc[i]['Long']],\n",
    "      popup=data.iloc[i]['Name'],\n",
    "      radius=float(data.iloc[i]['Count'])*200,\n",
    "      color='crimson',\n",
    "      fill=True,\n",
    "      fill_color='crimson'\n",
    "   ).add_to(m_Nations)\n",
    "\n",
    "# Show the map again\n",
    "m_Nations"
   ]
  },
  {
   "cell_type": "markdown",
   "metadata": {},
   "source": [
    "### How Michelin stars (with ranking) distributes in nations"
   ]
  },
  {
   "cell_type": "code",
   "execution_count": null,
   "metadata": {},
   "outputs": [],
   "source": [
    "# Make an empty map\n",
    "m_Nations = folium.Map(location=[20,0], tiles=\"OpenStreetMap\", zoom_start=2)\n",
    "\n",
    "# add marker one by one on the map\n",
    "data_3= by_Nation_rank_3.iloc[:,:]\n",
    "data_2= by_Nation_rank_2.iloc[:,:]\n",
    "data_1= by_Nation_rank_1.iloc[:,:]\n",
    "data_0= by_Nation_rank_0.iloc[:,:]\n",
    "\n",
    "for i in range(0,len(data_3)):\n",
    "   data == data_3.iloc[:,:]\n",
    "   folium.Circle(\n",
    "      location=[data.iloc[i]['Lat'], data.iloc[i]['Long']],\n",
    "      popup=data.iloc[i]['Name'],\n",
    "      radius=float(data.iloc[i]['Count'])*200,\n",
    "      color='crimson',\n",
    "      fill=True,\n",
    "      fill_color='crimson'\n",
    "   ).add_to(m_Nations)\n",
    "\n",
    "for i in range(0,len(data_2)):\n",
    "   data == data_1.iloc[:,:]\n",
    "   folium.Circle(\n",
    "      location=[data.iloc[i]['Lat'], data.iloc[i]['Long']],\n",
    "      popup=data.iloc[i]['Name'],\n",
    "      radius=float(data.iloc[i]['Count'])*200,\n",
    "      color='azure',\n",
    "      fill=True,\n",
    "      fill_color='azure'\n",
    "   ).add_to(m_Nations)\n",
    "\n",
    "for i in range(0,len(data_1)):\n",
    "   data == data_1.iloc[:,:]\n",
    "   folium.Circle(\n",
    "      location=[data.iloc[i]['Lat'], data.iloc[i]['Long']],\n",
    "      popup=data.iloc[i]['Name'],\n",
    "      radius=float(data.iloc[i]['Count'])*200,\n",
    "      color='burlywood',\n",
    "      fill=True,\n",
    "      fill_color='burlywood'\n",
    "   ).add_to(m_Nations)\n",
    "\n",
    "for i in range(0,len(data_0)):\n",
    "   data == data_0.iloc[:,:]\n",
    "   folium.Circle(\n",
    "      location=[data.iloc[i]['Lat'], data.iloc[i]['Long']],\n",
    "      popup=data.iloc[i]['Name'],\n",
    "      radius=float(data.iloc[i]['Count'])*200,\n",
    "      color='gray',\n",
    "      fill=True,\n",
    "      fill_color='gray'\n",
    "   ).add_to(m_Nations)\n",
    "\n",
    "# Show the map again\n",
    "m_Nations"
   ]
  },
  {
   "cell_type": "markdown",
   "metadata": {},
   "source": [
    "### What is the most Michelin rank existed?"
   ]
  },
  {
   "cell_type": "code",
   "execution_count": null,
   "metadata": {},
   "outputs": [],
   "source": [
    "sns.violinplot(x = )"
   ]
  }
 ],
 "metadata": {
  "interpreter": {
   "hash": "55041f7c938feb3e4562f293198cb27283c3d348101fddef3750a62eea9de60d"
  },
  "kernelspec": {
   "display_name": "Python 3.9.12 ('Winenv': venv)",
   "language": "python",
   "name": "python3"
  },
  "language_info": {
   "codemirror_mode": {
    "name": "ipython",
    "version": 3
   },
   "file_extension": ".py",
   "mimetype": "text/x-python",
   "name": "python",
   "nbconvert_exporter": "python",
   "pygments_lexer": "ipython3",
   "version": "3.9.13"
  },
  "orig_nbformat": 4
 },
 "nbformat": 4,
 "nbformat_minor": 2
}
