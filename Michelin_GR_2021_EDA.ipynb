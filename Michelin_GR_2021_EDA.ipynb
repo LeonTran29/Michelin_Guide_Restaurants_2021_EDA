{
 "cells": [
  {
   "cell_type": "markdown",
   "metadata": {},
   "source": [
    "<a href=\"https://media.suckhoecong.vn/Images/Uploaded/Share/2016/05/11/michelin_star.png\">Image</a>"
   ]
  },
  {
   "cell_type": "markdown",
   "metadata": {},
   "source": [
    "# Instruction:\n",
    "### Overview of Michelin: (and the data)\n",
    "\n",
    "### Objectives:\n",
    "\n",
    "### Notes:"
   ]
  },
  {
   "cell_type": "markdown",
   "metadata": {},
   "source": [
    "# Process:"
   ]
  },
  {
   "cell_type": "markdown",
   "metadata": {},
   "source": [
    "# Conclusion:"
   ]
  }
 ],
 "metadata": {
  "language_info": {
   "name": "python"
  },
  "orig_nbformat": 4
 },
 "nbformat": 4,
 "nbformat_minor": 2
}
