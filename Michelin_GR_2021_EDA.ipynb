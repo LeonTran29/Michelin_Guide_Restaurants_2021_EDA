{
 "cells": [
  {
   "cell_type": "markdown",
   "metadata": {},
   "source": [
    "<!-- <a href=\"https://media.suckhoecong.vn/Images/Uploaded/Share/2016/05/11/michelin_star.png\">Image</a> -->"
   ]
  },
  {
   "cell_type": "markdown",
   "metadata": {},
   "source": [
    "# Instruction:\n",
    "### Overview of Michelin: (and the data)\n",
    "\n",
    "### Objectives:\n",
    "- What is the most Michelin rank existed?\n",
    "- What is the highest/lowest price?\n",
    "- Which country does it have most/lest Michelin restaurants?\n",
    "- What is the most beloved cuisine style? (based on Michelin rank)\n",
    "### Notes:"
   ]
  },
  {
   "cell_type": "markdown",
   "metadata": {},
   "source": [
    "# Process:"
   ]
  },
  {
   "cell_type": "markdown",
   "metadata": {},
   "source": [
    "### Setup Library - Config - Import data"
   ]
  },
  {
   "cell_type": "code",
   "execution_count": 1,
   "metadata": {},
   "outputs": [],
   "source": [
    "# Setup Library\n",
    "import pandas as pd\n",
    "import numpy as np\n",
    "from IPython.display import display\n",
    "import matplotlib.pyplot as plt\n",
    "import re\n",
    "\n",
    "from count_sum import *\n",
    "from info_enhance import *\n",
    "from API_Get import *\n",
    "\n",
    "import folium"
   ]
  },
  {
   "cell_type": "code",
   "execution_count": null,
   "metadata": {},
   "outputs": [],
   "source": [
    "# Config\n",
    "pd.set_option('display.float_format', lambda x: '%.2f' % x)"
   ]
  },
  {
   "cell_type": "code",
   "execution_count": null,
   "metadata": {},
   "outputs": [],
   "source": [
    "# Import Data\n",
    "df = pd.read_csv('michelin_my_maps.csv')"
   ]
  },
  {
   "cell_type": "markdown",
   "metadata": {},
   "source": [
    "### Data first look"
   ]
  },
  {
   "cell_type": "code",
   "execution_count": null,
   "metadata": {},
   "outputs": [],
   "source": [
    "print('Data Overview:-----------------------------------------')\n",
    "display(df.head(5))\n",
    "print('Data Structure:-----------------------------------------')\n",
    "display(infoOut(df,vunique=True))"
   ]
  },
  {
   "cell_type": "markdown",
   "metadata": {},
   "source": [
    "### Null-data Solution & Reconfig:"
   ]
  },
  {
   "cell_type": "code",
   "execution_count": null,
   "metadata": {},
   "outputs": [],
   "source": [
    "# Null-data explore:\n",
    "print('Percentage of null: ----------------------------------')\n",
    "null_per = df.isnull().sum()*100/len(df)\n",
    "null_per = null_per.to_frame()\n",
    "null_per.columns = ['Percent']\n",
    "null_per.index.names = ['Name']\n",
    "null_per.reset_index(inplace=True)\n",
    "display(null_per)"
   ]
  },
  {
   "cell_type": "code",
   "execution_count": null,
   "metadata": {},
   "outputs": [],
   "source": [
    "# Drop Null-data and Reconfig format\n",
    "df = df.dropna(subset=['MinPrice','MaxPrice','Currency']).reset_index().drop(columns='index')\n",
    "df['MinPrice'] = df['MinPrice'].str.replace(',','')\n",
    "df['MinPrice'] = df['MinPrice'].astype(str).astype('float64')\n",
    "df['MaxPrice'] = df['MaxPrice'].str.replace(',','')\n",
    "df['MaxPrice'] = df['MaxPrice'].astype(str).astype('float64')"
   ]
  },
  {
   "cell_type": "markdown",
   "metadata": {},
   "source": [
    "### Null solved data"
   ]
  },
  {
   "cell_type": "code",
   "execution_count": null,
   "metadata": {},
   "outputs": [],
   "source": [
    "print('Overview: ===============================')\n",
    "display(df.head(3))\n",
    "print('Summary: ===============================')\n",
    "df_summary = infoOut(df,vunique=True)\n",
    "display(df_summary)"
   ]
  },
  {
   "cell_type": "markdown",
   "metadata": {},
   "source": [
    "# Conclusion:"
   ]
  }
 ],
 "metadata": {
  "interpreter": {
   "hash": "55041f7c938feb3e4562f293198cb27283c3d348101fddef3750a62eea9de60d"
  },
  "kernelspec": {
   "display_name": "Python 3.9.12 ('Winenv': venv)",
   "language": "python",
   "name": "python3"
  },
  "language_info": {
   "codemirror_mode": {
    "name": "ipython",
    "version": 3
   },
   "file_extension": ".py",
   "mimetype": "text/x-python",
   "name": "python",
   "nbconvert_exporter": "python",
   "pygments_lexer": "ipython3",
   "version": "3.9.12"
  },
  "orig_nbformat": 4
 },
 "nbformat": 4,
 "nbformat_minor": 2
}
